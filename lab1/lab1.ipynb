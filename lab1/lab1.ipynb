{
 "metadata": {
  "name": ""
 },
 "nbformat": 3,
 "nbformat_minor": 0,
 "worksheets": [
  {
   "cells": [
    {
     "cell_type": "markdown",
     "metadata": {},
     "source": [
      "#Laboratory work 1\n",
      "Data science: preparatory stage\n",
      "#Data sourse:\n",
      "In whis work I've analysed the hourly ranks of global Product Evaluation growing health VHI (vegetation health index), which are provided by the National Oceanic and Atmospheric Administration US NOAA.\n",
      "Data was obtained in March 6, 2016 at 5 pm from the page \n",
      "http://www.star.nesdis.noaa.gov/smcd/emb/vci/VH/vh_browseByCountry_province.php, where Ukraine has been chosen in the list of countries.\n",
      "#Data structure\n",
      "Raw data contains 1795 rows of data for each region. Each region has data from 35th week of 1981 till 9th week of 2016.\n",
      "#Designations\n",
      "- SMN -- Province mean NDVI\n",
      "- SMT -- Province mean Brightness Temperature\n",
      "- VCI -- Vegetational Conditional Index ( VCI < 40 indicates moisture stress; VCI > 60: favorable condition) \n",
      "- TCI -- Thermal Conditional Index ( TCI < 40 indicates thermal stress; TCI > 60: favorable condition) \n",
      "- VHI -- Vegetational Health Index ( VHI < 40 indicates vegetation stress; VHI > 60: favorable condition) \n",
      "- VHI<15 -- Percent of province with VHI < 15 ( VHI < 15 indicates drought from severe-to-exceptional intensity) \n",
      "- VHI<35 -- Percent of province with VHI < 35 ( VHI < 35 indicates drought from moderate-to-exceptional intensity) \n",
      "\n",
      "#The structure of the samples\n",
      "\n",
      "With the help of Python programming language following samples were established:\n",
      "- A number of VHI for the region for the year. The sample is a \"table\" with columns: \"Week\" and \"Index VHI\".\n",
      "- A number of VHI for the area for all year, where VHI < 15, and the percentage of the area, corresponding to such index over a certain value.\n",
      "- Similarly, for 15 < VHI < 35. The last two samples contain values such as a year, a week, the index VHI and the percentage of the field with the given index.\n",
      "From the first samples minimum and maximum of VHI indeces were found, as well as graphs of VHI index changes for the areas of\n",
      "certain year made.\n",
      "\n",
      "During work, the following libraries were used:\n",
      "- urllib2 - for opening URLs\n",
      "- pandas - using of data structures and tools for analysis data\n",
      "- matplotlib.pyplot - providing MATLAB-like structure for building charts"
     ]
    },
    {
     "cell_type": "markdown",
     "metadata": {},
     "source": [
      "#Downloading data\n",
      "- Downloading csv-files with VHI-index for each administrative area of Ukraine\n",
      "- Procedure parameter is the number of area\n",
      "- Name contains data an time of downloading\n",
      "    return "
     ]
    },
    {
     "cell_type": "code",
     "collapsed": false,
     "input": [
      "import urllib2\n",
      "from os.path import isfile\n",
      "\n",
      "def download(area_number):\n",
      "    name = '06_03_5pm%02d.csv'%area_number\n",
      "    if isfile(name):\n",
      "        return\n",
      "    url = \"http://www.star.nesdis.noaa.gov/smcd/emb/vci/gvix/G04/ts_L1/ByProvince/Mean/L1_Mean_UKR.R%02d.txt\"%area_number\n",
      "    vhi_url = urllib2.urlopen(url)\n",
      "    out = open(name,'wb')\n",
      "    out.write(vhi_url.read())\n",
      "    out.close()\n",
      "    print \"VHI is downloaded for %d area: %s\"%(area_number,name)"
     ],
     "language": "python",
     "metadata": {},
     "outputs": [],
     "prompt_number": 43
    },
    {
     "cell_type": "code",
     "collapsed": false,
     "input": [
      "for area_number in xrange (1, 28):\n",
      "    download(area_number)"
     ],
     "language": "python",
     "metadata": {},
     "outputs": [],
     "prompt_number": 44
    },
    {
     "cell_type": "markdown",
     "metadata": {},
     "source": [
      "#Cleaning data\n",
      "There are values -1 in downloaded csv-files. They should be cutten."
     ]
    },
    {
     "cell_type": "code",
     "collapsed": false,
     "input": [
      "import csv\n",
      "\n",
      "def clean_data(area_number):\n",
      "\n",
      "    raw_data_path = '/home/helga/ipt/proga/lab1/06_03_5pm%02d.csv'%area_number\n",
      "    clean_data_path = '/home/helga/ipt/proga/lab1/clean_data/06_03_5pm%02d.csv'%area_number\n",
      "    \n",
      "    with open(raw_data_path, 'rb') as old_file:\n",
      "        reader = csv.reader(old_file, delimiter=',')\n",
      "        \n",
      "        with open(clean_data_path, 'wb') as new_file:\n",
      "            f = csv.writer(new_file, delimiter=',')\n",
      "        \n",
      "            for line in reader:\n",
      "                contains_bad=False\n",
      "                for l in line:\n",
      "                    try:\n",
      "                        contains_bad=contains_bad or int(float(l)) == -1\n",
      "                    except:\n",
      "                        pass\n",
      "                if contains_bad:\n",
      "                    continue\n",
      "                f.writerow(line)"
     ],
     "language": "python",
     "metadata": {},
     "outputs": [],
     "prompt_number": 72
    },
    {
     "cell_type": "code",
     "collapsed": false,
     "input": [
      "for area_number in xrange (1, 28):\n",
      "    clean_data(area_number)"
     ],
     "language": "python",
     "metadata": {},
     "outputs": [],
     "prompt_number": 73
    },
    {
     "cell_type": "markdown",
     "metadata": {},
     "source": [
      "#Reading downloaded csv-files into a frame\n",
      "Procedure parameter is a path to the directory with files"
     ]
    },
    {
     "cell_type": "code",
     "collapsed": false,
     "input": [
      "import pandas as pd\n",
      "\n",
      "def read_frame(path):\n",
      "    df = pd.read_csv(path, index_col=False, header=True, \n",
      "                     names=['year', 'week', 'SMN', 'SMT', 'VCI', 'TCI', 'VHI', 'VHI<15', 'VHI<35'])\n",
      "    print '{number} area'.format(number = area_number)\n",
      "    print df[:5]"
     ],
     "language": "python",
     "metadata": {},
     "outputs": [],
     "prompt_number": 75
    },
    {
     "cell_type": "code",
     "collapsed": false,
     "input": [
      "for area_number in xrange (1, 28):\n",
      "    path = '/home/helga/ipt/proga/lab1/clean_data/06_03_5pm%02d.csv'%area_number\n",
      "    read_frame(path)"
     ],
     "language": "python",
     "metadata": {},
     "outputs": [
      {
       "output_type": "stream",
       "stream": "stdout",
       "text": [
        "1 area\n",
        "   year  week     SMN      SMT    VCI    TCI    VHI  VHI<15  VHI<35\n",
        "0  1981    35  0.1933  288.620  11.85  72.03  41.94    1.79   29.58\n",
        "1  1981    36  0.1983  289.113  18.15  60.98  39.56    4.53   39.18\n",
        "2  1981    37  0.2042  289.299  27.07  48.26  37.66    5.37   46.87\n",
        "3  1981    38  0.2075  288.843  36.52  38.49  37.51    4.59   48.12\n",
        "4  1981    39  0.2064  287.617  44.67  32.34  38.50    3.04   43.11\n",
        "\n",
        "[5 rows x 9 columns]"
       ]
      },
      {
       "output_type": "stream",
       "stream": "stdout",
       "text": [
        "\n",
        "2 area\n",
        "   year  week     SMN      SMT    VCI    TCI    VHI  VHI<15  VHI<35\n",
        "0  1981    35  0.1925  283.943   6.77  86.13  46.45    0.33   13.31\n",
        "1  1981    36  0.2028  285.254  13.36  72.60  42.98    1.52   25.01\n",
        "2  1981    37  0.2076  285.804  21.14  55.89  38.51    3.23   39.90\n",
        "3  1981    38  0.2118  285.846  30.77  40.26  35.51    3.89   50.51\n",
        "4  1981    39  0.2109  284.953  38.79  31.58  35.18    3.16   51.56\n",
        "\n",
        "[5 rows x 9 columns]\n",
        "3 area\n",
        "   year  week     SMN      SMT    VCI    TCI    VHI  VHI<15  VHI<35\n",
        "0  1981    35  0.3150  286.227  34.30  71.46  52.88    0.00    3.75\n",
        "1  1981    36  0.3216  287.486  43.64  58.53  51.09    0.00    7.19\n",
        "2  1981    37  0.3249  287.958  53.31  45.77  49.54    0.16    9.84\n",
        "3  1981    38  0.3213  287.879  59.04  36.83  47.94    0.00   12.81\n",
        "4  1981    39  0.3124  287.108  62.67  31.43  47.05    0.16   13.28\n",
        "\n",
        "[5 rows x 9 columns]\n",
        "4 area\n",
        "   year  week     SMN      SMT    VCI    TCI    VHI  VHI<15  VHI<35\n",
        "0  1981    35  0.2076  293.956  34.98  72.65  53.82    0.21   11.24\n",
        "1  1981    36  0.2126  294.362  38.54  59.23  48.88    0.73   19.35\n",
        "2  1981    37  0.2105  294.207  39.71  48.33  44.02    1.73   28.77\n",
        "3  1981    38  0.2050  293.578  41.05  41.30  41.17    2.88   35.36\n",
        "4  1981    39  0.1956  292.334  42.42  36.74  39.58    4.13   38.18\n",
        "\n",
        "[5 rows x 9 columns]"
       ]
      },
      {
       "output_type": "stream",
       "stream": "stdout",
       "text": [
        "\n",
        "5 area\n",
        "   year  week     SMN      SMT    VCI    TCI    VHI  VHI<15  VHI<35\n",
        "0  1981    35  0.1588  292.004  11.87  81.07  46.47    0.12   14.96\n",
        "1  1981    36  0.1698  292.785  21.18  64.55  42.86    0.70   27.98\n",
        "2  1981    37  0.1735  292.650  30.28  49.48  39.88    2.10   36.73\n",
        "3  1981    38  0.1746  291.870  39.62  38.02  38.82    2.02   39.95\n",
        "4  1981    39  0.1711  290.276  47.54  32.17  39.85    1.55   35.33\n",
        "\n",
        "[5 rows x 9 columns]\n",
        "6 area\n",
        "   year  week     SMN      SMT    VCI    TCI    VHI  VHI<15  VHI<35\n",
        "0  1981    35  0.1621  294.576  13.65  66.49  40.07    1.72   38.44\n",
        "1  1981    36  0.1635  295.035  18.22  50.04  34.13    6.76   54.40\n",
        "2  1981    37  0.1546  294.276  20.21  38.26  29.24   12.99   68.45\n",
        "3  1981    38  0.1438  292.863  22.12  31.13  26.62   17.85   76.27\n",
        "4  1981    39  0.1304  290.603  23.88  29.80  26.84   15.02   76.62\n",
        "\n",
        "[5 rows x 9 columns]\n",
        "7 area"
       ]
      },
      {
       "output_type": "stream",
       "stream": "stdout",
       "text": [
        "\n",
        "   year  week     SMN      SMT    VCI    TCI    VHI  VHI<15  VHI<35\n",
        "0  1981    35  0.2741  283.185  27.82  75.08  51.45    0.00    3.70\n",
        "1  1981    36  0.2805  284.663  35.65  60.98  48.32    0.00    8.87\n",
        "2  1981    37  0.2875  285.343  45.14  45.80  45.47    0.00   15.24\n",
        "3  1981    38  0.2871  285.421  50.03  35.32  42.67    0.09   21.53\n",
        "4  1981    39  0.2818  284.827  53.07  29.08  41.07    0.17   26.44\n",
        "\n",
        "[5 rows x 9 columns]\n",
        "8 area\n",
        "   year  week     SMN      SMT    VCI    TCI    VHI  VHI<15  VHI<35\n",
        "0  1981    35  0.1735  289.191  10.25  80.73  45.49    0.50   19.94\n",
        "1  1981    36  0.1836  290.168  19.02  64.42  41.72    3.01   32.96\n",
        "2  1981    37  0.1864  290.133  27.97  48.31  38.14    5.49   42.93\n",
        "3  1981    38  0.1881  289.485  37.48  36.57  37.02    6.10   46.09\n",
        "4  1981    39  0.1853  288.003  45.72  29.93  37.83    5.74   41.43\n",
        "\n",
        "[5 rows x 9 columns]\n",
        "9 area\n",
        "   year  week     SMN      SMT    VCI    TCI    VHI  VHI<15  VHI<35\n",
        "0  1981    35  0.1492  293.913  23.66  77.81  50.73    0.05   11.67\n",
        "1  1981    36  0.1539  294.421  28.35  62.09  45.22    0.48   25.32\n",
        "2  1981    37  0.1555  294.292  32.27  49.37  40.82    1.83   36.83\n",
        "3  1981    38  0.1550  293.578  36.52  40.82  38.67    2.85   42.74\n",
        "4  1981    39  0.1526  292.183  41.09  34.97  38.03    3.07   44.14\n",
        "\n",
        "[5 rows x 9 columns]"
       ]
      },
      {
       "output_type": "stream",
       "stream": "stdout",
       "text": [
        "\n",
        "10 area\n",
        "   year  week     SMN      SMT    VCI    TCI    VHI  VHI<15  VHI<35\n",
        "0  1981    35  0.2259  285.539  19.91  77.97  48.94    0.00    9.84\n",
        "1  1981    36  0.2323  287.001  29.55  59.53  44.54    0.16   21.26\n",
        "2  1981    37  0.2337  287.549  37.86  43.81  40.83    0.27   31.20\n",
        "3  1981    38  0.2301  287.376  43.26  33.81  38.53    0.71   38.47\n",
        "4  1981    39  0.2207  286.210  46.85  30.98  38.91    0.71   37.32\n",
        "\n",
        "[5 rows x 9 columns]\n",
        "11 area\n",
        "   year  week     SMN      SMT    VCI    TCI    VHI  VHI<15  VHI<35\n",
        "0  1981    35  0.1891  286.237   8.78  81.71  45.24    1.14   16.98\n",
        "1  1981    36  0.1962  287.308  14.69  65.01  39.85    4.13   33.61\n",
        "2  1981    37  0.2011  287.837  22.76  47.11  34.94    6.87   51.73\n",
        "3  1981    38  0.2049  287.857  31.98  33.16  32.57    8.09   59.69\n",
        "4  1981    39  0.2056  287.060  40.67  24.66  32.66    6.02   59.52\n",
        "\n",
        "[5 rows x 9 columns]\n",
        "12 area"
       ]
      },
      {
       "output_type": "stream",
       "stream": "stdout",
       "text": [
        "\n",
        "   year  week     SMN      SMT    VCI    TCI    VHI  VHI<15  VHI<35\n",
        "0  1981    35  0.1934  285.536  19.79  87.85  53.82    0.00    7.14\n",
        "1  1981    36  0.2080  286.926  32.52  67.39  49.96    0.00   14.29\n",
        "2  1981    37  0.2132  287.729  43.59  46.34  44.96    2.38   21.43\n",
        "3  1981    38  0.2167  287.855  52.87  29.18  41.02    2.38   38.10\n",
        "4  1981    39  0.2158  287.086  60.94  19.34  40.14    2.38   38.10\n",
        "\n",
        "[5 rows x 9 columns]\n",
        "13 area\n",
        "   year  week     SMN      SMT    VCI    TCI    VHI  VHI<15  VHI<35\n",
        "0  1981    35  0.1561  291.485  13.64  73.83  43.73    0.24   21.25\n",
        "1  1981    36  0.1623  291.935  20.67  60.72  40.69    1.38   34.43\n",
        "2  1981    37  0.1679  291.846  28.77  47.18  37.97    1.96   45.03\n",
        "3  1981    38  0.1705  291.020  36.46  38.13  37.29    2.20   45.99\n",
        "4  1981    39  0.1703  289.375  42.95  34.67  38.81    1.43   40.35\n",
        "\n",
        "[5 rows x 9 columns]\n",
        "14 area\n",
        "   year  week     SMN      SMT    VCI    TCI    VHI  VHI<15  VHI<35\n",
        "0  1981    35  0.1685  294.744  16.55  57.65  37.10    4.15   44.34\n",
        "1  1981    36  0.1728  295.020  23.66  42.23  32.94    8.68   58.31\n",
        "2  1981    37  0.1637  293.981  26.90  31.96  29.43   11.79   69.09\n",
        "3  1981    38  0.1518  292.251  28.57  27.94  28.25   12.42   73.15\n",
        "4  1981    39  0.1362  289.698  28.65  30.23  29.44    9.10   70.22\n",
        "\n",
        "[5 rows x 9 columns]"
       ]
      },
      {
       "output_type": "stream",
       "stream": "stdout",
       "text": [
        "\n",
        "15 area\n",
        "   year  week     SMN      SMT    VCI    TCI    VHI  VHI<15  VHI<35\n",
        "0  1981    35  0.2610  283.689  20.91  82.55  51.73    0.00    5.43\n",
        "1  1981    36  0.2737  285.456  32.61  64.43  48.52    0.00   12.15\n",
        "2  1981    37  0.2749  286.068  41.29  47.58  44.44    0.16   19.65\n",
        "3  1981    38  0.2702  286.004  46.38  37.11  41.74    0.26   26.01\n",
        "4  1981    39  0.2593  285.112  49.06  32.52  40.79    0.31   28.75\n",
        "\n",
        "[5 rows x 9 columns]\n",
        "16 area\n",
        "   year  week     SMN      SMT    VCI    TCI    VHI  VHI<15  VHI<35\n",
        "0  1981    35  0.1437  293.944  18.87  71.83  45.35    0.05   19.24\n",
        "1  1981    36  0.1472  294.238  23.89  57.38  40.64    1.09   34.63\n",
        "2  1981    37  0.1501  293.988  29.11  44.86  36.99    2.50   46.65\n",
        "3  1981    38  0.1515  293.098  34.41  37.46  35.94    3.22   49.45\n",
        "4  1981    39  0.1525  291.521  39.71  34.87  37.29    2.60   43.94\n",
        "\n",
        "[5 rows x 9 columns]\n",
        "17 area"
       ]
      },
      {
       "output_type": "stream",
       "stream": "stdout",
       "text": [
        "\n",
        "   year  week     SMN      SMT    VCI    TCI    VHI  VHI<15  VHI<35\n",
        "0  1981    35  0.1730  294.404  25.30  68.39  46.85    0.16   18.13\n",
        "1  1981    36  0.1714  294.336  30.44  57.57  44.00    0.72   25.76\n",
        "2  1981    37  0.1701  293.905  35.72  48.28  42.00    1.07   31.85\n",
        "3  1981    38  0.1679  292.983  40.10  42.66  41.38    0.95   33.68\n",
        "4  1981    39  0.1659  291.558  44.52  38.81  41.66    0.80   31.21\n",
        "\n",
        "[5 rows x 9 columns]\n",
        "18 area\n",
        "   year  week     SMN      SMT    VCI    TCI    VHI  VHI<15  VHI<35\n",
        "0  1981    35  0.1821  288.421  11.12  83.92  47.52    0.04   10.48\n",
        "1  1981    36  0.1901  289.112  18.66  69.14  43.90    0.44   22.92\n",
        "2  1981    37  0.1967  289.297  28.32  53.10  40.71    0.95   33.04\n",
        "3  1981    38  0.2017  288.850  39.03  41.38  40.20    0.99   33.56\n",
        "4  1981    39  0.2019  287.596  47.91  32.59  40.25    0.56   32.01\n",
        "\n",
        "[5 rows x 9 columns]\n",
        "19 area"
       ]
      },
      {
       "output_type": "stream",
       "stream": "stdout",
       "text": [
        "\n",
        "   year  week     SMN      SMT    VCI    TCI    VHI  VHI<15  VHI<35\n",
        "0  1981    35  0.2247  283.823  20.44  85.68  53.06    0.00    2.77\n",
        "1  1981    36  0.2367  285.626  30.82  67.23  49.02    0.11    9.36\n",
        "2  1981    37  0.2429  286.597  40.19  46.31  43.25    0.28   22.59\n",
        "3  1981    38  0.2436  286.800  47.44  32.14  39.79    0.44   33.06\n",
        "4  1981    39  0.2365  285.955  51.95  26.32  39.14    0.33   35.44\n",
        "\n",
        "[5 rows x 9 columns]\n",
        "20 area\n",
        "   year  week     SMN      SMT    VCI    TCI    VHI  VHI<15  VHI<35\n",
        "0  1981    35  0.1230  286.850  20.17  67.27  43.72     2.5    35.0\n",
        "1  1981    36  0.1244  287.953  22.69  57.38  40.03     5.0    42.5\n",
        "2  1981    37  0.1217  287.837  22.86  52.99  37.92     2.5    50.0\n",
        "3  1981    38  0.1163  287.250  23.06  48.60  35.83     7.5    60.0\n",
        "4  1981    39  0.1090  285.812  23.38  45.60  34.49     5.0    60.0\n",
        "\n",
        "[5 rows x 9 columns]\n",
        "21 area"
       ]
      },
      {
       "output_type": "stream",
       "stream": "stdout",
       "text": [
        "\n",
        "   year  week     SMN      SMT    VCI    TCI    VHI  VHI<15  VHI<35\n",
        "0  1981    35  0.1835  284.939   6.51  87.91  47.21    0.00   10.46\n",
        "1  1981    36  0.1913  285.715  12.41  75.60  44.01    0.42   22.73\n",
        "2  1981    37  0.1959  285.928  20.52  59.67  40.09    1.63   34.73\n",
        "3  1981    38  0.2013  285.698  31.11  44.74  37.93    2.18   42.07\n",
        "4  1981    39  0.2016  284.651  39.73  35.53  37.63    2.37   42.54\n",
        "\n",
        "[5 rows x 9 columns]\n",
        "22 area\n",
        "   year  week     SMN      SMT    VCI    TCI    VHI  VHI<15  VHI<35\n",
        "0  1981    35  0.2427  285.382  24.98  79.32  52.15    0.00    6.12\n",
        "1  1981    36  0.2530  287.091  37.88  59.69  48.79    0.08   13.17\n",
        "2  1981    37  0.2515  287.680  46.17  41.98  44.08    0.17   19.97\n",
        "3  1981    38  0.2435  287.545  49.28  31.75  40.51    0.25   29.95\n",
        "4  1981    39  0.2292  286.536  49.73  27.15  38.44    0.92   38.00\n",
        "\n",
        "[5 rows x 9 columns]\n",
        "23 area"
       ]
      },
      {
       "output_type": "stream",
       "stream": "stdout",
       "text": [
        "\n",
        "   year  week     SMN      SMT    VCI    TCI    VHI  VHI<15  VHI<35\n",
        "0  1981    35  0.3270  285.992  34.24  71.90  53.07    0.00    5.77\n",
        "1  1981    36  0.3280  286.730  40.02  56.94  48.48    0.37   12.76\n",
        "2  1981    37  0.3190  286.587  44.60  46.01  45.30    0.37   20.95\n",
        "3  1981    38  0.3041  285.984  46.33  39.95  43.14    0.65   25.79\n",
        "4  1981    39  0.2872  284.919  48.07  36.51  42.29    0.93   29.14\n",
        "\n",
        "[5 rows x 9 columns]\n",
        "24 area\n",
        "   year  week     SMN      SMT    VCI    TCI    VHI  VHI<15  VHI<35\n",
        "0  1981    35  0.2023  287.950   9.85  73.75  41.80    1.20   28.42\n",
        "1  1981    36  0.2060  288.869  15.88  57.27  36.57    4.61   46.74\n",
        "2  1981    37  0.2075  289.075  23.02  43.82  33.42    7.04   57.49\n",
        "3  1981    38  0.2057  288.606  29.43  35.12  32.28    8.32   60.69\n",
        "4  1981    39  0.2010  287.344  35.00  32.50  33.75    6.15   56.76\n",
        "\n",
        "[5 rows x 9 columns]\n",
        "25 area"
       ]
      },
      {
       "output_type": "stream",
       "stream": "stdout",
       "text": [
        "\n",
        "   year  week     SMN      SMT    VCI    TCI    VHI  VHI<15  VHI<35\n",
        "0  1981    35  0.2255  284.554  18.57  80.90  49.74    0.05    7.18\n",
        "1  1981    36  0.2362  286.288  28.07  62.33  45.20    0.38   19.04\n",
        "2  1981    37  0.2405  286.956  36.84  44.58  40.71    1.03   31.50\n",
        "3  1981    38  0.2401  286.896  44.23  33.44  38.83    0.87   36.78\n",
        "4  1981    39  0.2338  285.863  50.22  28.90  39.56    0.49   33.79\n",
        "\n",
        "[5 rows x 9 columns]\n",
        "26 area\n",
        "   year  week     SMN      SMT    VCI    TCI    VHI  VHI<15  VHI<35\n",
        "0  1981    35  0.1543  294.646  18.53  76.60  47.57    0.09   15.34\n",
        "1  1981    36  0.1577  295.181  23.90  60.05  41.97    0.61   28.85\n",
        "2  1981    37  0.1562  294.774  28.08  47.86  37.97    2.21   42.21\n",
        "3  1981    38  0.1531  293.763  33.15  39.82  36.48    3.11   47.11\n",
        "4  1981    39  0.1474  291.961  38.62  36.39  37.50    2.92   44.33\n",
        "\n",
        "[5 rows x 9 columns]\n",
        "27 area"
       ]
      },
      {
       "output_type": "stream",
       "stream": "stdout",
       "text": [
        "\n",
        "   year  week     SMN      SMT    VCI    TCI    VHI  VHI<15  VHI<35\n",
        "0  1981    35  0.2241  284.353  15.17  83.32  49.25    0.22    8.23\n",
        "1  1981    36  0.2292  285.630  21.41  68.39  44.90    1.20   19.90\n",
        "2  1981    37  0.2324  286.329  28.40  51.65  40.03    3.19   34.76\n",
        "3  1981    38  0.2337  286.527  35.80  37.73  36.76    3.81   44.98\n",
        "4  1981    39  0.2305  285.861  43.14  29.05  36.09    2.97   46.32\n",
        "\n",
        "[5 rows x 9 columns]\n"
       ]
      }
     ],
     "prompt_number": 76
    },
    {
     "cell_type": "markdown",
     "metadata": {},
     "source": [
      "#Changing indexes of areas\n",
      "Notation:\n",
      "Old index Area name -> New index"
     ]
    },
    {
     "cell_type": "code",
     "collapsed": false,
     "input": [
      "old = ['', 'Cherkasy', 'Chernihiv', 'Chernivtsi', 'Crimea', 'Dnipropetrovsk', 'Donetsk', 'Ivano-Frankivsk', 'Kharkiv', \n",
      "       'Kherson', 'Khmelnytskyy', 'Kiev', 'Kiev City', 'Kirovohrad', 'Luhansk', 'Lviv', 'Mykolayiv', 'Odessa', 'Poltava', \n",
      "       'Rivne', 'Sevastopol', 'Sumy', 'Ternopil', 'Transcarpathia', 'Vinnitsya', 'Volyn', 'Zaporizhzhya', 'Zhytomyr']\n",
      "new = ['', 'Vinnitsya', 'Volyn', 'Dnipropetrovsk', 'Donetsk', 'Zhytomyr', 'Transcarpathia', 'Zaporizhzhya', \n",
      "       'Ivano-Frankivsk', 'Kiev', 'Kirovohrad', 'Luhansk', 'Lviv', 'Mykolayiv', 'Odessa', 'Poltava', 'Rivne', 'Sumy', \n",
      "       'Ternopil', 'Kharkiv', 'Kherson', 'Khmelnytskyy', 'Cherkasy', 'Chernivtsi', 'Chernihiv', 'Crimea', 'Kiev City',\n",
      "       'Sevastopol']\n",
      "for area_number in xrange (1, 28):\n",
      "    with open('/home/helga/ipt/proga/lab1/clean_data/06_03_5pm%02d.csv'%area_number, 'r') as input:\n",
      "        new_area_number = new.index(old[area_number])\n",
      "        new_path = '/home/helga/ipt/proga/lab1/new_indexes/06_03_5pm%02d.csv'%new_area_number\n",
      "        out = open(new_path,'wb')\n",
      "        out.write(input.read())\n",
      "        out.close()\n",
      "    print '{old} {area} -> {new}'.format(old = area_number, new = new_area_number, area = old[area_number])"
     ],
     "language": "python",
     "metadata": {},
     "outputs": [
      {
       "output_type": "stream",
       "stream": "stdout",
       "text": [
        "1 Cherkasy -> 22\n",
        "2 Chernihiv -> 24\n",
        "3 Chernivtsi -> 23\n",
        "4 Crimea -> 25\n",
        "5 Dnipropetrovsk -> 3\n",
        "6 Donetsk -> 4\n",
        "7 Ivano-Frankivsk -> 8\n",
        "8 Kharkiv -> 19\n",
        "9 Kherson -> 20\n",
        "10 Khmelnytskyy -> 21\n",
        "11 Kiev -> 9\n",
        "12 Kiev City -> 26\n",
        "13 Kirovohrad -> 10\n",
        "14 Luhansk -> 11\n",
        "15 Lviv -> 12"
       ]
      },
      {
       "output_type": "stream",
       "stream": "stdout",
       "text": [
        "\n",
        "16 Mykolayiv -> 13\n",
        "17 Odessa -> 14\n",
        "18 Poltava -> 15\n",
        "19 Rivne -> 16\n",
        "20 Sevastopol -> 27\n",
        "21 Sumy -> 17\n",
        "22 Ternopil -> 18\n",
        "23 Transcarpathia -> 6\n",
        "24 Vinnitsya -> 1\n",
        "25 Volyn -> 2\n",
        "26 Zaporizhzhya -> 7\n",
        "27 Zhytomyr -> 5\n"
       ]
      }
     ],
     "prompt_number": 77
    },
    {
     "cell_type": "markdown",
     "metadata": {},
     "source": [
      "#Forming samples\n",
      "Procedure for:\n",
      "- Making series VHI for the region for the year\n",
      "- Searching extremes (min and max)\n",
      "- Show plot for changing VHI index of the area for the year"
     ]
    },
    {
     "cell_type": "code",
     "collapsed": false,
     "input": [
      "import matplotlib.pyplot as plt\n",
      "\n",
      "def vhi_area_year(year, number):\n",
      "    path1 = '/home/helga/ipt/proga/lab1/new_indexes/06_03_5pm%02d.csv'%number\n",
      "    df1 = pd.read_csv(path1, index_col=False, header=True, \n",
      "                      names=['year', 'week', 'SMN', 'SMT', 'VCI', 'TCI', 'VHI', 'VHI<15', 'VHI<35'])\n",
      "    print '{number} area {year} year'.format(number = number, year = year)\n",
      "    df2 = df1[df1['year'] == year]\n",
      "    df2 = df2[['week', 'VHI']]\n",
      "    print df2\n",
      "    print 'Maximun VHI is {max_value}'.format(max_value=df2.VHI.max(axis=0))\n",
      "    print 'Minimum VHI is {min_value}'.format(min_value=df2.VHI.min(axis=0))\n",
      "   \n",
      "    df2.plot(kind='scatter', x='week', y='VHI', title='VHI index for {number} area for {year} year'.format(number = number,\n",
      "                                                                                                           year = year));\n",
      "    plt.show()"
     ],
     "language": "python",
     "metadata": {},
     "outputs": [],
     "prompt_number": 78
    },
    {
     "cell_type": "code",
     "collapsed": false,
     "input": [
      "vhi_area_year(1981, 2)"
     ],
     "language": "python",
     "metadata": {},
     "outputs": [
      {
       "output_type": "stream",
       "stream": "stdout",
       "text": [
        "2 area 1981 year\n",
        "    week    VHI\n",
        "0     35  49.74\n",
        "1     36  45.20\n",
        "2     37  40.71\n",
        "3     38  38.83\n",
        "4     39  39.56\n",
        "5     40  41.08\n",
        "6     41  43.67\n",
        "7     42  45.39\n",
        "8     43  47.34\n",
        "9     44  49.09\n",
        "10    45  50.82\n",
        "11    46  52.65\n",
        "12    47  55.92\n",
        "13    48  58.10\n",
        "14    49  57.21\n",
        "15    50  56.96\n",
        "16    51  58.48\n",
        "17    52  58.67\n",
        "\n",
        "[18 rows x 2 columns]"
       ]
      },
      {
       "output_type": "stream",
       "stream": "stdout",
       "text": [
        "\n",
        "Maximun VHI is 58.67\n",
        "Minimum VHI is 38.83\n"
       ]
      }
     ],
     "prompt_number": 79
    },
    {
     "cell_type": "markdown",
     "metadata": {},
     "source": [
      "Example. VHI index change for Volyn region for 1981 year.\n",
      "There wasn't drought on the teritory in the year. Stress consitions were observed at 38 and 39 weeks. Maximum of VHI index is 58.67, minimum is 38.83.\n",
      "Extreme droughts were in 2000 and 2015 years, while moderate droughts were in 1982, 2000 and 2015."
     ]
    },
    {
     "cell_type": "markdown",
     "metadata": {},
     "source": [
      "Procedure for:\n",
      "- Making series VHI for all years for the area\n",
      "- Find years with extreme drought (VHI < 15) that affected over a specified per cent of area"
     ]
    },
    {
     "cell_type": "code",
     "collapsed": false,
     "input": [
      "def vhi_area_extreme(number, percent):\n",
      "    path1 = '/home/helga/ipt/proga/lab1/new_indexes/06_03_5pm%02d.csv'%number\n",
      "    df1 = pd.read_csv(path1, index_col=False, header=True, \n",
      "                      names=['year', 'week', 'SMN', 'SMT', 'VCI', 'TCI', 'VHI', 'VHI<15', 'VHI<35'])\n",
      "    print '{number} area over {percent} %'.format(number = number, percent = percent)\n",
      "    df3 = df1[(df1['VHI'] < 15) & (df1['VHI<15'] > percent)]\n",
      "    df3 = df3[['year', 'VHI', 'VHI<15']]\n",
      "    print df3\n",
      "    print 'Years: {years}'.format(years = pd.unique(df3.year.ravel()))"
     ],
     "language": "python",
     "metadata": {},
     "outputs": [],
     "prompt_number": 80
    },
    {
     "cell_type": "code",
     "collapsed": false,
     "input": [
      "vhi_area_extreme(1, 60)"
     ],
     "language": "python",
     "metadata": {},
     "outputs": [
      {
       "output_type": "stream",
       "stream": "stdout",
       "text": [
        "1 area over 60 %\n",
        "      year    VHI  VHI<15\n",
        "969   2000  12.03   67.31\n",
        "970   2000  13.18   61.29\n",
        "1736  2015  12.88   62.40\n",
        "\n",
        "[3 rows x 3 columns]\n",
        "Years: [2000 2015]\n"
       ]
      }
     ],
     "prompt_number": 81
    },
    {
     "cell_type": "markdown",
     "metadata": {},
     "source": [
      "Procedure for:\n",
      "- Making series VHI for all years for the area\n",
      "- Find years with moderate drought (15 < VHI < 35) that affected over a specified per cent of area"
     ]
    },
    {
     "cell_type": "code",
     "collapsed": false,
     "input": [
      "def vhi_area_moderate(number, percent):\n",
      "    path1 = '/home/helga/ipt/proga/lab1/new_indexes/06_03_5pm%02d.csv'%number\n",
      "    df1 = pd.read_csv(path1, index_col=False, header=True, \n",
      "                      names=['year', 'week', 'SMN', 'SMT', 'VCI', 'TCI', 'VHI', 'VHI<15', 'VHI<35'])\n",
      "    print '{number} area over {percent} %'.format(number = number, percent = percent)\n",
      "    df4 = df1[(df1['VHI'] < 35) & (df1['VHI'] > 15) & (df1['VHI<35'] > percent)]\n",
      "    df4 = df4[['year', 'week', 'VHI', 'VHI<35']]\n",
      "    print df4\n",
      "    print 'Years: {years}'.format(years = pd.unique(df4.year.ravel()))"
     ],
     "language": "python",
     "metadata": {},
     "outputs": [],
     "prompt_number": 82
    },
    {
     "cell_type": "code",
     "collapsed": false,
     "input": [
      "vhi_area_moderate(1, 90)"
     ],
     "language": "python",
     "metadata": {},
     "outputs": [
      {
       "output_type": "stream",
       "stream": "stdout",
       "text": [
        "1 area over 90 %\n",
        "      year  week    VHI  VHI<35\n",
        "59    1982    42  20.56   90.31\n",
        "60    1982    43  18.26   94.92\n",
        "61    1982    44  17.12   96.50\n",
        "62    1982    45  16.79   96.84\n",
        "63    1982    46  18.46   95.18\n",
        "965   2000    44  19.62   90.87\n",
        "966   2000    45  18.46   91.51\n",
        "967   2000    46  17.06   92.06\n",
        "971   2000    50  16.91   93.13\n",
        "1738  2015    37  19.23   90.18\n",
        "\n",
        "[10 rows x 4 columns]\n",
        "Years: [1982 2000 2015]\n"
       ]
      }
     ],
     "prompt_number": 83
    },
    {
     "cell_type": "markdown",
     "metadata": {},
     "source": [
      "#Conclusions\n",
      "Python proved to be convenient programming language for working with statistics because it has libraries for data analysis and graphing. Another advantage of the language simple and understandable code. To do the task iPython Notebook was used. It is interactive computing environment where it is possible to combine code execution, formatted text and graphics output."
     ]
    },
    {
     "cell_type": "code",
     "collapsed": false,
     "input": [],
     "language": "python",
     "metadata": {},
     "outputs": []
    }
   ],
   "metadata": {}
  }
 ]
}